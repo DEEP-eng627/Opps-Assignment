{
  "nbformat": 4,
  "nbformat_minor": 0,
  "metadata": {
    "colab": {
      "provenance": []
    },
    "kernelspec": {
      "name": "python3",
      "display_name": "Python 3"
    },
    "language_info": {
      "name": "python"
    }
  },
  "cells": [
    {
      "cell_type": "markdown",
      "source": [
        "#1. What is Object-Oriented Programming (OOP)\n",
        "\n",
        " Object-Oriented Programming (OOP)\n",
        "\n",
        "Object-Oriented Programming (OOP) is a programming paradigm that revolves around the concept of objects and classes. It's a way of designing and organizing code that simulates real-world objects and systems.\n",
        "\n",
        "**Common OOP Concepts:**\n",
        "\n",
        "1. Class: A blueprint or template that defines the properties and behavior of an object.\n",
        "2. Object: An instance of a class, with its own set of attributes (data) and methods (functions).\n",
        "3. Inheritance: A mechanism that allows one class to inherit the properties and behavior of another class.\n",
        "4. Method Overloading: Defining multiple methods with the same name but different parameters.\n",
        "5. Method Overriding: Providing a specific implementation for a method that's already defined in a superclass.\n",
        "\n",
        "\n",
        "**Example in Python:**\n",
        "\n",
        "\n"
      ],
      "metadata": {
        "id": "B2G2YmqppGal"
      }
    },
    {
      "cell_type": "code",
      "source": [
        "class Car:\n",
        "    def __init__(self, color, model, year):\n",
        "        self.color = color\n",
        "        self.model = model\n",
        "        self.year = year\n",
        "\n",
        "    def start_engine(self):\n",
        "        print(\"Vroom!\")\n",
        "\n",
        "my_car = Car(\"Red\", \"Tesla\", 2022)\n",
        "print(my_car.color)\n",
        "my_car.start_engine()\n"
      ],
      "metadata": {
        "colab": {
          "base_uri": "https://localhost:8080/"
        },
        "id": "8z8unehrp8QM",
        "outputId": "6e77c3ff-9d1b-48a7-9007-10e520ec3d5c"
      },
      "execution_count": null,
      "outputs": [
        {
          "output_type": "stream",
          "name": "stdout",
          "text": [
            "Red\n",
            "Vroom!\n"
          ]
        }
      ]
    },
    {
      "cell_type": "markdown",
      "source": [
        "#2.Class in OOP\n",
        "\n",
        "In Object-Oriented Programming (OOP), a class is a blueprint or template that defines the properties and behavior of an object. It's a way to define a custom data type that can be used to create objects.\n",
        "\n",
        "\n",
        "**Class Components:**\n",
        "\n",
        "1. Attributes (also known as data members or properties): These are the variables that are defined inside a class.\n",
        "2. Methods (also known as member functions): These are the functions that are defined inside a class and can be used to manipulate the attributes of an object.\n",
        "\n",
        "**Example:**\n",
        "\n",
        "\n"
      ],
      "metadata": {
        "id": "d1FRI23mqnnJ"
      }
    },
    {
      "cell_type": "code",
      "source": [
        "class Person:\n",
        "    def __init__(self, name, age):\n",
        "        self.name = name\n",
        "        self.age = age\n",
        "\n",
        "    def greet(self):\n",
        "        print(f\"Hello, my name is {self.name} and I am {self.age} years old.\")\n",
        "\n",
        "person = Person(\"John\", 30)\n",
        "person.greet()\n"
      ],
      "metadata": {
        "colab": {
          "base_uri": "https://localhost:8080/"
        },
        "id": "8hynPdCUqDKs",
        "outputId": "6f86470a-09de-42a3-8ac2-eeafeb65f714"
      },
      "execution_count": null,
      "outputs": [
        {
          "output_type": "stream",
          "name": "stdout",
          "text": [
            "Hello, my name is John and I am 30 years old.\n"
          ]
        }
      ]
    },
    {
      "cell_type": "markdown",
      "source": [
        "#3. What is an object in OOP\n",
        "\n",
        "Object in OOP\n",
        "\n",
        "In Object-Oriented Programming (OOP), an object is an instance of a class. It represents a real-world entity or concept and has its own set of attributes (data) and methods (functions).\n",
        "\n",
        "\n",
        "**Object Components:**\n",
        "\n",
        "1. State: The state of an object refers to its attributes and their current values.\n",
        "2. Behavior: The behavior of an object refers to the methods it can use to perform actions or operations.\n",
        "\n",
        "**Example:**\n",
        "\n",
        "\n"
      ],
      "metadata": {
        "id": "du9FPQoSslNJ"
      }
    },
    {
      "cell_type": "code",
      "source": [
        "class Car:\n",
        "    def __init__(self, color, model):\n",
        "        self.color = color\n",
        "        self.model = model\n",
        "\n",
        "    def start_engine(self):\n",
        "        print(\"Vroom!\")\n",
        "\n",
        "# Create two objects from the Car class\n",
        "car1 = Car(\"Red\", \"Tesla\")\n",
        "car2 = Car(\"Blue\", \"Toyota\")\n",
        "\n",
        "print(car1.color)\n",
        "print(car2.model)\n",
        "car1.start_engine()\n"
      ],
      "metadata": {
        "colab": {
          "base_uri": "https://localhost:8080/"
        },
        "id": "p11zfoT8tNJl",
        "outputId": "37df8e59-00fc-49cf-f835-02f5067a0e79"
      },
      "execution_count": null,
      "outputs": [
        {
          "output_type": "stream",
          "name": "stdout",
          "text": [
            "Red\n",
            "Toyota\n",
            "Vroom!\n"
          ]
        }
      ]
    },
    {
      "cell_type": "markdown",
      "source": [
        "#4.  What is the difference between abstraction and encapsulation.\n",
        "\n",
        " Abstraction vs Encapsulation\n",
        "\n",
        "Abstraction and encapsulation are two fundamental concepts in Object-Oriented Programming (OOP) that help design and organize code. While they're related, they serve distinct purposes.\n",
        "\n",
        "**Abstraction:**\n",
        "\n",
        "Abstraction is the process of exposing only the necessary information to the outside world while hiding the implementation details. It's about showing what an object can do, without revealing how it does it.\n",
        "\n",
        "- Focuses on interface: Abstraction focuses on the interface or the contract that an object provides to the outside world.\n",
        "- Hides complexity: Abstraction helps hide the complexity of an object's implementation, making it easier to use and interact with.\n",
        "\n",
        "**Encapsulation:**\n",
        "\n",
        "Encapsulation is the process of bundling data and methods that operate on that data within a single unit, such as a class or object. It's about hiding the data and controlling access to it through methods.\n",
        "\n",
        "- Focuses on data hiding: Encapsulation focuses on hiding the data and controlling access to it, ensuring that it's not modified accidentally or maliciously.\n",
        "- Protects data integrity: Encapsulation helps protect the integrity of an object's data by controlling access to it and ensuring that it's modified only through approved methods.\n",
        "\n",
        "**Key differences:**\n",
        "\n",
        "1. Purpose: Abstraction is about exposing a simplified interface, while encapsulation is about hiding data and controlling access to it.\n",
        "2. Focus: Abstraction focuses on the interface, while encapsulation focuses on data hiding and protection.\n",
        "3. Benefits: Abstraction helps reduce complexity and improve modularity, while encapsulation helps protect data integrity and prevent unauthorized access.\n",
        "\n",
        "**Example:**\n",
        "\n",
        "\n"
      ],
      "metadata": {
        "id": "7_F7JIZcsFb7"
      }
    },
    {
      "cell_type": "code",
      "source": [
        "class BankAccount:\n",
        "    def __init__(self, balance):\n",
        "        self.__balance = balance\n",
        "\n",
        "    def deposit(self, amount):\n",
        "        self.__balance += amount\n",
        "\n",
        "    def get_balance(self):\n",
        "        return self.__balance\n",
        "\n",
        "account = BankAccount(1000)\n",
        "account.deposit(500)\n",
        "print(account.get_balance())\n"
      ],
      "metadata": {
        "colab": {
          "base_uri": "https://localhost:8080/"
        },
        "id": "qwFcwYgasAV5",
        "outputId": "012beb89-5c0f-4c28-80e3-c57c632a3503"
      },
      "execution_count": null,
      "outputs": [
        {
          "output_type": "stream",
          "name": "stdout",
          "text": [
            "1500\n"
          ]
        }
      ]
    },
    {
      "cell_type": "markdown",
      "source": [
        "#5.  What are dunder methods in Python.\n",
        "\n",
        " **Dunder Methods in Python**\n",
        "\n",
        "Dunder methods, short for \"double underscore\" methods, are special methods in Python classes that are surrounded by double underscores (__) on both sides of the method name. These methods are also known as \"magic methods\" or \"special methods.\"\n",
        "\n",
        "\n",
        "Examples:\n",
        "\n",
        "1. __init__: Initializes an object when it's created.\n",
        "2. __str__: Returns a string representation of an object.\n",
        "3. __repr__: Returns a string representation of an object that's useful for debugging.\n",
        "4. __add__: Defines the behavior for the + operator.\n",
        "\n",
        "**Example Code:**\n",
        "\n",
        "\n"
      ],
      "metadata": {
        "id": "OvBfr5F9zZR8"
      }
    },
    {
      "cell_type": "code",
      "source": [
        "class Vector:\n",
        "    def __init__(self, x, y):\n",
        "        self.x = x\n",
        "        self.y = y\n",
        "\n",
        "    def __str__(self):\n",
        "        return f\"Vector({self.x}, {self.y})\"\n",
        "\n",
        "    def __add__(self, other):\n",
        "        return Vector(self.x + other.x, self.y + other.y)\n",
        "\n",
        "v1 = Vector(2, 3)\n",
        "v2 = Vector(4, 5)\n",
        "v3 = v1 + v2\n",
        "print(v3)\n"
      ],
      "metadata": {
        "colab": {
          "base_uri": "https://localhost:8080/"
        },
        "id": "AfyzSaKrzWFg",
        "outputId": "0ab7c9b0-d468-4443-f262-75403a66ce33"
      },
      "execution_count": null,
      "outputs": [
        {
          "output_type": "stream",
          "name": "stdout",
          "text": [
            "Vector(6, 8)\n"
          ]
        }
      ]
    },
    {
      "cell_type": "markdown",
      "source": [
        "#6. Explain the concept of inheritance in OOP.\n",
        "\n",
        " **Inheritance in OOP**\n",
        "\n",
        "Inheritance is a fundamental concept in Object-Oriented Programming (OOP) that allows one class to inherit the properties and behavior of another class. The inheriting class is called the subclass or derived class, while the class being inherited from is called the superclass or base class.\n",
        "\n",
        "**Key Characteristics:**\n",
        "\n",
        "1. Code Reusability: Inheritance promotes code reusability by allowing subclasses to inherit the common attributes and methods of the superclass.\n",
        "2. Hierarchical Relationships: Inheritance helps establish hierarchical relationships between classes, where a subclass is a specialized version of the superclass.\n",
        "3. Inherited Attributes and Methods: A subclass inherits all the attributes and methods of the superclass and can also add new attributes and methods or override the ones inherited from the superclass.\n",
        "\n",
        "**Types of Inheritance:**\n",
        "\n",
        "1. Single Inheritance: A subclass inherits from a single superclass.\n",
        "2. Multiple Inheritance: A subclass inherits from multiple superclasses.\n",
        "3. Multilevel Inheritance: A subclass inherits from a superclass that itself inherits from another superclass.\n",
        "4. Hierarchical Inheritance: Multiple subclasses inherit from a single superclass.\n",
        "\n",
        "**Example:**\n",
        "\n",
        "\n"
      ],
      "metadata": {
        "id": "C5AJdo-30tuR"
      }
    },
    {
      "cell_type": "code",
      "source": [
        "class Animal:\n",
        "    def __init__(self, name):\n",
        "        self.name = name\n",
        "\n",
        "    def eat(self):\n",
        "        print(f\"{self.name} is eating.\")\n",
        "\n",
        "class Dog(Animal):\n",
        "    def __init__(self, name, breed):\n",
        "        super().__init__(name)\n",
        "        self.breed = breed\n",
        "\n",
        "    def bark(self):\n",
        "        print(f\"{self.name} the {self.breed} is barking.\")\n",
        "\n",
        "my_dog = Dog(\"Max\", \"Golden Retriever\")\n",
        "my_dog.eat()\n",
        "my_dog.bark()\n"
      ],
      "metadata": {
        "colab": {
          "base_uri": "https://localhost:8080/"
        },
        "id": "jVlm_VbW0noq",
        "outputId": "946da651-eb69-4c66-e7bf-a77b1cf57c51"
      },
      "execution_count": null,
      "outputs": [
        {
          "output_type": "stream",
          "name": "stdout",
          "text": [
            "Max is eating.\n",
            "Max the Golden Retriever is barking.\n"
          ]
        }
      ]
    },
    {
      "cell_type": "markdown",
      "source": [
        "#7. What is polymorphism in OOP.\n",
        "\n",
        "**Polymorphism in OOP**\n",
        "\n",
        "Polymorphism is a fundamental concept in Object-Oriented Programming (OOP) that allows objects of different classes to be treated as objects of a common superclass. It's the ability of an object to take on multiple forms, depending on the context in which it's used.\n",
        "\n",
        "**Key Characteristics:**\n",
        "\n",
        "1. Multiple Forms: Polymorphism allows objects of different classes to be treated as objects of a common superclass, enabling them to take on multiple forms.\n",
        "2. Common Interface: Polymorphism relies on a common interface or superclass that defines the methods and attributes that can be shared by objects of different classes.\n",
        "3. Flexibility: Polymorphism provides flexibility in programming, allowing you to write code that can work with objects of different classes without knowing their specific class type.\n",
        "\n",
        "**Types of Polymorphism:**\n",
        "\n",
        "1. Compile-time Polymorphism: Resolved at compile-time, examples include method overloading and operator overloading.\n",
        "2. Runtime Polymorphism: Resolved at runtime, examples include method overriding and function polymorphism.\n",
        "\n",
        "**Example:**\n",
        "\n",
        "\n"
      ],
      "metadata": {
        "id": "RbtU2d_L4AxY"
      }
    },
    {
      "cell_type": "code",
      "source": [
        "class Animal:\n",
        "    def sound(self):\n",
        "        pass\n",
        "\n",
        "class Dog(Animal):\n",
        "    def sound(self):\n",
        "        return \"Woof!\"\n",
        "\n",
        "class Cat(Animal):\n",
        "    def sound(self):\n",
        "        return \"Meow!\"\n",
        "\n",
        "def make_sound(animal):\n",
        "    print(animal.sound())\n",
        "\n",
        "dog = Dog()\n",
        "cat = Cat()\n",
        "\n",
        "make_sound(dog)\n",
        "make_sound(cat)\n",
        "\n"
      ],
      "metadata": {
        "colab": {
          "base_uri": "https://localhost:8080/"
        },
        "id": "G0YcfsLK1Y60",
        "outputId": "0328a96d-be2a-4d4d-dcf2-e22831a3d5bf"
      },
      "execution_count": null,
      "outputs": [
        {
          "output_type": "stream",
          "name": "stdout",
          "text": [
            "Woof!\n",
            "Meow!\n"
          ]
        }
      ]
    },
    {
      "cell_type": "markdown",
      "source": [],
      "metadata": {
        "id": "T3EmLhJk5GW6"
      }
    },
    {
      "cell_type": "markdown",
      "source": [
        "#8. How is encapsulation achieved in Python\n",
        "\n",
        " Encapsulation in Python\n",
        "\n",
        "Encapsulation in Python is achieved through the use of classes and objects. It involves bundling data and methods that operate on that data within a single unit, such as a class or object.\n",
        "\n",
        "Mechanisms for Encapsulation:\n",
        "\n",
        "1. Classes and Objects: Classes define the structure and behavior of objects. They encapsulate data and methods that operate on that data.\n",
        "2. Private Variables: Python uses a naming convention to indicate private variables. Variables prefixed with a double underscore (__) are intended to be private.\n",
        "3. Property Decorators: Property decorators (@property) can be used to control access to instance variables.\n",
        "\n",
        "**Example**\n",
        "\n"
      ],
      "metadata": {
        "id": "Rc3QdDAA4fVm"
      }
    },
    {
      "cell_type": "code",
      "source": [
        "class Person:\n",
        "    def __init__(self, name, age):\n",
        "        self.__name = name\n",
        "        self.__age = age\n",
        "\n",
        "    @property\n",
        "    def name(self):\n",
        "        return self.__name\n",
        "\n",
        "    @name.setter\n",
        "    def name(self, value):\n",
        "        if isinstance(value, str):\n",
        "            self.__name = value\n",
        "        else:\n",
        "            raise TypeError(\"Name must be a string.\")\n",
        "\n",
        "    @property\n",
        "    def age(self):\n",
        "        return self.__age\n",
        "\n",
        "    @age.setter\n",
        "    def age(self, value):\n",
        "        if isinstance(value, int) and value > 0:\n",
        "            self.__age = value\n",
        "        else:\n",
        "            raise ValueError(\"Age must be a positive integer.\")\n",
        "\n",
        "person = Person(\"John\", 30)\n",
        "print(person.name)\n",
        "print(person.age)\n",
        "\n",
        "person.name = \"Jane\"\n",
        "person.age = 31\n",
        "print(person.name)\n",
        "print(person.age)"
      ],
      "metadata": {
        "colab": {
          "base_uri": "https://localhost:8080/"
        },
        "id": "jLIEHq5c4ZEo",
        "outputId": "86d6c2b0-4cac-47e7-c2c5-52e7cfe02ecb"
      },
      "execution_count": null,
      "outputs": [
        {
          "output_type": "stream",
          "name": "stdout",
          "text": [
            "John\n",
            "30\n",
            "Jane\n",
            "31\n"
          ]
        }
      ]
    },
    {
      "cell_type": "markdown",
      "source": [
        "#9.  What is a constructor in Python.\n",
        "\n",
        " **Constructor in Python**\n",
        "\n",
        "A constructor in Python is a special method in a class that is automatically called when an object of that class is instantiated (created). It's used to initialize the attributes of the class.\n",
        "\n",
        "**Key Points:**\n",
        "\n",
        "1. __init__ Method: The constructor is defined using the __init__ method.\n",
        "2. Initialization: The constructor initializes the attributes of the class.\n",
        "3. First Method Called: The constructor is the first method called when an object is created.\n",
        "\n",
        "**Example:**\n",
        "\n",
        "\n"
      ],
      "metadata": {
        "id": "T_PBYJ9y5ywn"
      }
    },
    {
      "cell_type": "code",
      "source": [
        "class Car:\n",
        "    def __init__(self, brand, model, year):\n",
        "        self.brand = brand\n",
        "        self.model = model\n",
        "        self.year = year\n",
        "\n",
        "my_car = Car(\"Toyota\", \"Corolla\", 2015)\n",
        "print(my_car.brand)\n",
        "print(my_car.model)\n",
        "print(my_car.year)\n"
      ],
      "metadata": {
        "colab": {
          "base_uri": "https://localhost:8080/"
        },
        "id": "LaqYUbh75rxf",
        "outputId": "69837c5c-f2b4-4483-96a2-f4caff2fd965"
      },
      "execution_count": null,
      "outputs": [
        {
          "output_type": "stream",
          "name": "stdout",
          "text": [
            "Toyota\n",
            "Corolla\n",
            "2015\n"
          ]
        }
      ]
    },
    {
      "cell_type": "markdown",
      "source": [
        "#10. What are class and static methods in Python.\n",
        "\n",
        " **Class and Static Methods in Python**\n",
        "\n",
        "In Python, class methods and static methods are two types of methods that can be defined in a class.\n",
        "\n",
        "**Class Methods:**\n",
        "\n",
        "- Bound to the class: Class methods are bound to the class rather than an instance of the class.\n",
        "- Use the @classmethod decorator: Class methods are defined using the @classmethod decorator.\n",
        "- First parameter is cls: The first parameter of a class method is always cls, which refers to the class itself.\n",
        "\n",
        "**Static Methods:**\n",
        "\n",
        "- Not bound to the class or instance: Static methods are not bound to the class or an instance of the class.\n",
        "- Use the @staticmethod decorator: Static methods are defined using the @staticmethod decorator.\n",
        "- No implicit first parameter: Static methods do not have an implicit first parameter like self or cls.\n",
        "\n",
        "**Example:**\n",
        "\n",
        "\n"
      ],
      "metadata": {
        "id": "Ov_H3IMY6vyb"
      }
    },
    {
      "cell_type": "code",
      "source": [
        "class MathUtils:\n",
        "    @classmethod\n",
        "    def add(cls, a, b):\n",
        "        return a + b\n",
        "\n",
        "    @staticmethod\n",
        "    def is_even(num):\n",
        "        return num % 2 == 0\n",
        "\n",
        "print(MathUtils.add(2, 3))\n",
        "print(MathUtils.is_even(4))\n"
      ],
      "metadata": {
        "colab": {
          "base_uri": "https://localhost:8080/"
        },
        "id": "JLztSD1r6LLM",
        "outputId": "c709c477-0534-424c-b326-6ee78a84f9b8"
      },
      "execution_count": null,
      "outputs": [
        {
          "output_type": "stream",
          "name": "stdout",
          "text": [
            "5\n",
            "True\n"
          ]
        }
      ]
    },
    {
      "cell_type": "markdown",
      "source": [
        "#11. What is method overloading in Python\n",
        "\n",
        " **Method Overloading in Python**\n",
        "\n",
        "Method overloading is a feature in some programming languages that allows multiple methods with the same name to be defined, but with different parameter lists. However, Python does not directly support method overloading like some other languages.\n",
        "\n",
        "**Why Python Doesn't Support Method Overloading:**\n",
        "\n",
        "1. Dynamic Typing: Python is dynamically typed, which means it doesn't check the types of variables at compile time. This makes method overloading less necessary.\n",
        "2. Optional Arguments: Python allows for optional arguments and variable-length argument lists, which can be used to achieve similar functionality to method overloading.\n",
        "\n",
        "**Achieving Method Overloading-Like Behavior:**\n",
        "\n",
        "You can use optional arguments, variable-length argument lists (*args and **kwargs), or single-dispatch functions (@singledispatch decorator from the functools module) to achieve method overloading-like behavior in Python.\n",
        "\n"
      ],
      "metadata": {
        "id": "6xjv5KBufwu3"
      }
    },
    {
      "cell_type": "code",
      "source": [
        "#Example Using Optional Arguments:\n",
        "\n",
        "\n",
        "class Calculator:\n",
        "    def calculate(self, a, b=None):\n",
        "        if b is None:\n",
        "            return a ** 2\n",
        "        else:\n",
        "            return a + b\n",
        "\n",
        "calculator = Calculator()\n",
        "print(calculator.calculate(5))\n",
        "print(calculator.calculate(2, 3))\n",
        "\n",
        "\n",
        "#Example Using Single-Dispatch Functions:\n",
        "\n",
        "\n",
        "from functools import singledispatch\n",
        "\n",
        "@singledispatch\n",
        "def fun(arg):\n",
        "    return \"default\"\n",
        "\n",
        "@fun.register\n",
        "def _(arg: int):\n",
        "    return \"argument is of type int\"\n",
        "\n",
        "@fun.register\n",
        "def _(arg: list):\n",
        "    return \"argument is a list\"\n",
        "\n",
        "print(fun(1))\n",
        "print(fun([1, 2, 3]))\n",
        "print(fun(\"hello\"))"
      ],
      "metadata": {
        "id": "rmODz0p67GK1",
        "colab": {
          "base_uri": "https://localhost:8080/"
        },
        "outputId": "b02bf306-e6fa-40b4-ddad-0033d22bf428"
      },
      "execution_count": 1,
      "outputs": [
        {
          "output_type": "stream",
          "name": "stdout",
          "text": [
            "25\n",
            "5\n",
            "argument is of type int\n",
            "argument is a list\n",
            "default\n"
          ]
        }
      ]
    },
    {
      "cell_type": "markdown",
      "source": [
        "#12. what is method overriding in opps?\n",
        "\n",
        " Method Overriding in OOP\n",
        "\n",
        "Method overriding is a feature in Object-Oriented Programming (OOP) that allows a subclass to provide a different implementation of a method that is already defined in its superclass. The method in the subclass has the same name, return type, and parameter list as the method in the superclass, but it can have a different implementation.\n",
        "\n",
        "**Key Characteristics:**\n",
        "\n",
        "1. Same Method Name: The method in the subclass has the same name as the method in the superclass.\n",
        "2. Same Method Signature: The method in the subclass has the same return type and parameter list as the method in the superclass.\n",
        "3. Different Implementation: The method in the subclass provides a different implementation than the method in the superclass.\n",
        "\n"
      ],
      "metadata": {
        "id": "_d2o-Gn6g2gN"
      }
    },
    {
      "cell_type": "code",
      "source": [
        "#Example:\n",
        "\n",
        "\n",
        "class Animal:\n",
        "    def sound(self):\n",
        "        print(\"The animal makes a sound.\")\n",
        "\n",
        "class Dog(Animal):\n",
        "    def sound(self):\n",
        "        print(\"The dog barks.\")\n",
        "\n",
        "class Cat(Animal):\n",
        "    def sound(self):\n",
        "        print(\"The cat meows.\")\n",
        "\n",
        "dog = Dog()\n",
        "cat = Cat()\n",
        "\n",
        "dog.sound()\n",
        "cat.sound()\n",
        "\n"
      ],
      "metadata": {
        "colab": {
          "base_uri": "https://localhost:8080/"
        },
        "id": "0QFaLdGNgett",
        "outputId": "f8349fc7-c839-490b-ab7e-3deafb99da3b"
      },
      "execution_count": 3,
      "outputs": [
        {
          "output_type": "stream",
          "name": "stdout",
          "text": [
            "The dog barks.\n",
            "The cat meows.\n"
          ]
        }
      ]
    },
    {
      "cell_type": "markdown",
      "source": [
        "#13. what is a property decorator in python?\n",
        "\n",
        " Property Decorator in Python\n",
        "\n",
        "A property decorator in Python is a way to customize access to instance data. It allows you to define getter, setter, and deleter methods for instance attributes, providing a way to control access and modification of these attributes.\n",
        "\n",
        "**Key Features:**\n",
        "\n",
        "1. Getter Method: The @property decorator defines a getter method that returns the value of an instance attribute.\n",
        "2. Setter Method: The @x.setter decorator defines a setter method that sets the value of an instance attribute.\n",
        "3. Deleter Method: The @x.deleter decorator defines a deleter method that deletes an instance attribute.\n",
        "\n",
        "**Example:**\n",
        "\n",
        "\n"
      ],
      "metadata": {
        "id": "3SmOi5veiygF"
      }
    },
    {
      "cell_type": "code",
      "source": [
        "class Person:\n",
        "    def __init__(self, name):\n",
        "        self._name = name\n",
        "\n",
        "    @property\n",
        "    def name(self):\n",
        "        print(\"Getting name\")\n",
        "        return self._name\n",
        "\n",
        "    @name.setter\n",
        "    def name(self, value):\n",
        "        print(\"Setting name to\", value)\n",
        "        self._name = value\n",
        "\n",
        "    @name.deleter\n",
        "    def name(self):\n",
        "        print(\"Deleting name\")\n",
        "        del self._name\n",
        "\n",
        "person = Person(\"John\")\n",
        "print(person.name)\n",
        "person.name = \"Jane\"\n",
        "del person.name"
      ],
      "metadata": {
        "colab": {
          "base_uri": "https://localhost:8080/"
        },
        "id": "8lA25hG7in12",
        "outputId": "4a36180a-bc4d-44a2-9058-4058d4ca6575"
      },
      "execution_count": 4,
      "outputs": [
        {
          "output_type": "stream",
          "name": "stdout",
          "text": [
            "Getting name\n",
            "John\n",
            "Setting name to Jane\n",
            "Deleting name\n"
          ]
        }
      ]
    },
    {
      "cell_type": "markdown",
      "source": [
        "#14. why is polymorphism important in opps?\n",
        "\n",
        " Importance of Polymorphism in OOP\n",
        "\n",
        "Polymorphism is a fundamental concept in Object-Oriented Programming (OOP) that allows objects of different classes to be treated as objects of a common superclass. This enables more flexibility and generic code, making it a crucial aspect of OOP.\n",
        "\n",
        "**Key Benefits:**\n",
        "\n",
        "1. Increased Flexibility: Polymorphism allows you to write code that can work with objects of different classes without knowing their specific class type.\n",
        "2. Generic Code: Polymorphism enables you to write generic code that can be applied to a wide range of objects, reducing code duplication and improving maintainability.\n",
        "3. Easier Maintenance: Polymorphism makes it easier to modify or extend the behavior of a class without affecting other parts of the program.\n",
        "4. Improved Readability: Polymorphism promotes code readability by allowing you to focus on the commonalities between objects rather than their differences.\n",
        "\n",
        "**Use Cases:**\n",
        "\n",
        "1. Inheritance: Polymorphism is often used in inheritance, where a subclass inherits the properties and behavior of a superclass and can also add new behavior or override existing behavior.\n",
        "2. Method Overriding: Polymorphism is used in method overriding, where a subclass provides a different implementation of a method that is already defined in its superclass.\n",
        "3. Generic Programming: Polymorphism enables generic programming, where you can write code that can work with a wide range of objects without knowing their specific class type.\n",
        "\n",
        "**Best Practices:**\n",
        "\n",
        "1. Use Inheritance: Use inheritance to create a hierarchy of classes that can be treated polymorphically.\n",
        "2. Use Method Overriding: Use method overriding to provide specific implementations of methods in subclasses.\n",
        "3. Use Generic Code: Use generic code to write methods that can work with objects of different classes.\n",
        "\n",
        "By leveraging polymorphism, you can write more flexible, maintainable, and efficient code that takes advantage of the benefits of OOP."
      ],
      "metadata": {
        "id": "lOUVEmiHjYSR"
      }
    },
    {
      "cell_type": "markdown",
      "source": [
        "#15. what is an abstract class in python?\n",
        "\n",
        " Abstract Class in Python\n",
        "\n",
        "An abstract class in Python is a class that cannot be instantiated and is designed to be inherited by other classes. Abstract classes provide a way to define a blueprint for other classes to follow, ensuring that they implement certain methods or properties.\n",
        "\n",
        "**Key Characteristics:**\n",
        "\n",
        "1. Cannot be Instantiated: Abstract classes cannot be instantiated directly.\n",
        "2. Must be Inherited: Abstract classes are designed to be inherited by other classes.\n",
        "3. Abstract Methods: Abstract classes can define abstract methods, which are methods that must be implemented by any subclass.\n",
        "\n",
        "**Benefits:**\n",
        "\n",
        "1. Enforces Interface: Abstract classes enforce an interface or a contract that must be implemented by any subclass.\n",
        "2. Provides Blueprint: Abstract classes provide a blueprint for other classes to follow, ensuring consistency and structure.\n",
        "3. Promotes Code Reusability: Abstract classes promote code reusability by allowing subclasses to inherit common behavior and properties.\n",
        "\n",
        "**Use Cases:**\n",
        "\n",
        "1. Defining Interfaces: Use abstract classes to define interfaces or contracts that must be implemented by other classes.\n",
        "2. Providing Common Behavior: Use abstract classes to provide common behavior or properties that can be shared by multiple classes.\n",
        "3. Enforcing Structure: Use abstract classes to enforce a specific structure or organization in your code.\n",
        "\n",
        "**Example**"
      ],
      "metadata": {
        "id": "mffZEjYIj3w6"
      }
    },
    {
      "cell_type": "code",
      "source": [
        "from abc import ABC, abstractmethod\n",
        "\n",
        "class Shape(ABC):\n",
        "    @abstractmethod\n",
        "    def area(self):\n",
        "        pass\n",
        "\n",
        "    @abstractmethod\n",
        "    def perimeter(self):\n",
        "        pass\n",
        "\n",
        "class Rectangle(Shape):\n",
        "    def __init__(self, width, height):\n",
        "        self.width = width\n",
        "        self.height = height\n",
        "\n",
        "    def area(self):\n",
        "        return self.width * self.height\n",
        "\n",
        "    def perimeter(self):\n",
        "        return 2 * (self.width + self.height)\n",
        "\n",
        "rectangle = Rectangle(4, 5)\n",
        "print(rectangle.area())\n",
        "print(rectangle.perimeter())\n"
      ],
      "metadata": {
        "colab": {
          "base_uri": "https://localhost:8080/"
        },
        "id": "wTsOgJ9jjS7R",
        "outputId": "048dc636-f439-4e84-9ce2-b08cc9edbc56"
      },
      "execution_count": 5,
      "outputs": [
        {
          "output_type": "stream",
          "name": "stdout",
          "text": [
            "20\n",
            "18\n"
          ]
        }
      ]
    },
    {
      "cell_type": "markdown",
      "source": [
        "#16. what are the advantage of opp?\n",
        "\n",
        " **Advantages of Object-Oriented Programming (OOP)**\n",
        "\n",
        "Object-Oriented Programming (OOP) offers several advantages that make it a popular and effective programming paradigm. Here are some of the key benefits:\n",
        "\n",
        "**1. Modularity**\n",
        "\n",
        "- OOP allows you to break down a complex system into smaller, independent modules (classes and objects) that can be developed, tested, and maintained separately.\n",
        "- This modularity makes it easier to manage and modify large programs.\n",
        "\n",
        "**2. Reusability**\n",
        "\n",
        "- OOP enables code reusability through inheritance and polymorphism.\n",
        "- You can create classes that can be reused in multiple contexts, reducing code duplication and improving efficiency.\n",
        "\n",
        "**3. Encapsulation**\n",
        "\n",
        "- OOP provides encapsulation, which allows you to hide internal implementation details and expose only the necessary information to the outside world.\n",
        "- This helps to protect data and ensure that it is not modified accidentally or maliciously.\n",
        "\n",
        "**4. Abstraction**\n",
        "\n",
        "- OOP allows you to abstract complex systems and focus on essential features and behaviors.\n",
        "- Abstraction helps to simplify complex systems and make them more manageable.\n",
        "\n",
        "**5. Easier Maintenance**\n",
        "\n",
        "- OOP makes it easier to modify and maintain code by allowing you to make changes to individual modules without affecting the entire system.\n",
        "- This reduces the risk of introducing bugs and makes it easier to debug and test code.\n",
        "\n",
        "**6. Improved Readability**\n",
        "\n",
        "- OOP promotes code readability by organizing code into logical structures (classes and objects) that are easy to understand.\n",
        "- This makes it easier for developers to understand and work with each other's code.\n",
        "\n",
        "**7. Better Error Handling**\n",
        "\n",
        "- OOP allows you to handle errors and exceptions in a more structured and organized way.\n",
        "- This makes it easier to identify and fix errors, improving the overall reliability and robustness of the system.\n",
        "\n",
        "**8. Real-World Modeling**\n",
        "\n",
        "- OOP allows you to model real-world objects and systems in a more intuitive and natural way.\n",
        "- This makes it easier to understand and analyze complex systems and develop more effective solutions.\n",
        "\n",
        "**9. Flexibility**\n",
        "\n",
        "- OOP provides flexibility in programming by allowing you to create objects that can be easily modified or extended.\n",
        "- This makes it easier to adapt to changing requirements and develop more flexible and scalable systems.\n",
        "\n",
        "**10. Improved Collaboration**\n",
        "\n",
        "- OOP promotes collaboration among developers by providing a common language and framework for working with complex systems.\n",
        "- This makes it easier for developers to work together and share knowledge and expertise."
      ],
      "metadata": {
        "id": "3qpCftDLksY9"
      }
    },
    {
      "cell_type": "markdown",
      "source": [
        "#17.what is the difference between a class variable and an instance varible?\n",
        "\n",
        "**Class Variables vs Instance Variables**\n",
        "\n",
        "In object-oriented programming, class variables and instance variables are two types of variables that serve different purposes.\n",
        "\n",
        "**Class Variables:**\n",
        "\n",
        "1. Shared by all instances: Class variables are shared by all instances of a class.\n",
        "2. Defined at the class level: Class variables are defined at the class level, outside of any method.\n",
        "3. Common to all objects: Class variables are common to all objects of a class.\n",
        "\n",
        "**Instance Variables:**\n",
        "\n",
        "1. Unique to each instance: Instance variables are unique to each instance of a class.\n",
        "2. Defined at the instance level: Instance variables are defined at the instance level, typically inside the __init__ method.\n",
        "3. Specific to each object: Instance variables are specific to each object of a class.\n",
        "\n",
        "**Key differences:**\n",
        "\n",
        "1. Scope: Class variables have a class scope, while instance variables have an instance scope.\n",
        "2. Sharing: Class variables are shared by all instances, while instance variables are not shared.\n",
        "3. Modification: Modifying a class variable affects all instances, while modifying an instance variable only affects that specific instance.\n",
        "\n",
        "Example:\n"
      ],
      "metadata": {
        "id": "Bt9Ygfl7m66v"
      }
    },
    {
      "cell_type": "code",
      "source": [
        "class Car:\n",
        "    wheels = 4  # class variable\n",
        "\n",
        "    def __init__(self, color):\n",
        "        self.color = color  # instance variable\n",
        "\n",
        "car1 = Car(\"Red\")\n",
        "car2 = Car(\"Blue\")\n",
        "\n",
        "print(Car.wheels)\n",
        "print(car1.color)\n",
        "print(car2.color)\n",
        "\n",
        "Car.wheels = 6\n",
        "print(car1.wheels)\n",
        "print(car2.wheels)\n",
        "\n",
        "car1.color = \"Green\"\n",
        "print(car1.color)\n",
        "print(car2.color)\n",
        "\n"
      ],
      "metadata": {
        "colab": {
          "base_uri": "https://localhost:8080/"
        },
        "id": "RpovuuzXkndq",
        "outputId": "4bb9b9bc-f2b4-4866-cb54-bd1a34c71a17"
      },
      "execution_count": 7,
      "outputs": [
        {
          "output_type": "stream",
          "name": "stdout",
          "text": [
            "4\n",
            "Red\n",
            "Blue\n",
            "6\n",
            "6\n",
            "Green\n",
            "Blue\n"
          ]
        }
      ]
    },
    {
      "cell_type": "markdown",
      "source": [
        "#18. what is multiple inheritance in python ?\n",
        "\n",
        " **Multiple Inheritance in Python**\n",
        "\n",
        "Multiple inheritance is a feature in Python that allows a class to inherit properties and behavior from more than one superclass or parent class. This means that a child class can inherit attributes and methods from multiple parent classes.\n",
        "\n",
        "Example:\n",
        "\n"
      ],
      "metadata": {
        "id": "VEQ5Cj5koCkH"
      }
    },
    {
      "cell_type": "code",
      "source": [
        "class Animal:\n",
        "    def eat(self):\n",
        "        print(\"The animal eats.\")\n",
        "\n",
        "class Mammal:\n",
        "    def sleep(self):\n",
        "        print(\"The mammal sleeps.\")\n",
        "\n",
        "class Dog(Animal, Mammal):\n",
        "    def bark(self):\n",
        "        print(\"The dog barks.\")\n",
        "\n",
        "dog = Dog()\n",
        "dog.eat()\n",
        "dog.sleep()\n",
        "dog.bark()\n",
        "\n",
        "\n"
      ],
      "metadata": {
        "colab": {
          "base_uri": "https://localhost:8080/"
        },
        "id": "o-4npsNmntmQ",
        "outputId": "456f7a47-5323-41de-e37a-3fa6fcaa60df"
      },
      "execution_count": 8,
      "outputs": [
        {
          "output_type": "stream",
          "name": "stdout",
          "text": [
            "The animal eats.\n",
            "The mammal sleeps.\n",
            "The dog barks.\n"
          ]
        }
      ]
    },
    {
      "cell_type": "markdown",
      "source": [
        "#19. Explain the purpose of \"_str'and'repr_'' method in python.\n",
        "\n",
        "**__str__ and __repr__ Methods in Python**\n",
        "\n",
        "In Python, __str__ and __repr__ are special methods that allow you to define how objects of a class should be represented as strings.\n",
        "\n",
        "**__str__ Method:**\n",
        "\n",
        "1. Purpose: The __str__ method returns a string representation of an object that is intended for human consumption.\n",
        "2. Use case: The __str__ method is used when you want to provide a user-friendly string representation of an object, such as when printing an object or displaying it in a UI.\n",
        "3. Example: A Person class might have a __str__ method that returns a string like \"John Doe (30)\".\n",
        "\n",
        "**__repr__ Method:**\n",
        "\n",
        "1. Purpose: The __repr__ method returns a string representation of an object that is intended for developers and is useful for debugging.\n",
        "2. Use case: The __repr__ method is used when you want to provide a string representation of an object that is useful for debugging or logging.\n",
        "3. Example: A Person class might have a __repr__ method that returns a string like \"Person('John Doe', 30)\".\n",
        "\n",
        "**Key differences:**\n",
        "\n",
        "1. Purpose: __str__ is for human consumption, while __repr__ is for developers and debugging.\n",
        "2. Output: __str__ returns a user-friendly string, while __repr__ returns a string that is useful for debugging.\n",
        "\n",
        "Example:\n",
        "\n",
        "\n"
      ],
      "metadata": {
        "id": "3SLiCsYXonmt"
      }
    },
    {
      "cell_type": "code",
      "source": [
        "class Person:\n",
        "    def __init__(self, name, age):\n",
        "        self.name = name\n",
        "        self.age = age\n",
        "\n",
        "    def __str__(self):\n",
        "        return f\"{self.name} ({self.age})\"\n",
        "\n",
        "    def __repr__(self):\n",
        "        return f\"Person('{self.name}', {self.age})\"\n",
        "\n",
        "person = Person(\"John Doe\", 30)\n",
        "print(person)\n",
        "print(repr(person))\n"
      ],
      "metadata": {
        "colab": {
          "base_uri": "https://localhost:8080/"
        },
        "id": "qSorqmi1ohsT",
        "outputId": "13cd78e5-f686-49e6-ea4a-66bd34a32647"
      },
      "execution_count": 9,
      "outputs": [
        {
          "output_type": "stream",
          "name": "stdout",
          "text": [
            "John Doe (30)\n",
            "Person('John Doe', 30)\n"
          ]
        }
      ]
    },
    {
      "cell_type": "markdown",
      "source": [
        "#20. what is the significance of the 'super()' function in python?\n",
        "\n",
        " Significance of super() Function in Python\n",
        "\n",
        "The super() function in Python is used to access methods and properties of a parent class (also known as a superclass) from a child class. It allows you to call methods of the parent class, even if they are overridden in the child class.\n",
        "\n",
        "**Key Benefits:**\n",
        "\n",
        "1. Method overriding: super() enables method overriding, where a child class can provide a specific implementation of a method that is already defined in its parent class.\n",
        "2. Code reuse: super() promotes code reuse by allowing child classes to inherit behavior from parent classes and build upon it.\n",
        "3. Flexibility: super() provides flexibility in programming by enabling child classes to modify or extend the behavior of parent classes.\n",
        "\n",
        "**Use cases:**\n",
        "\n",
        "1. Inheritance: super() is commonly used in inheritance, where a child class needs to access methods or properties of its parent class.\n",
        "2. Method extension: super() is useful when you want to extend the behavior of a method in a parent class, rather than completely overriding it.\n",
        "\n",
        "\n",
        "**Example**\n",
        "\n",
        "\n",
        "\n"
      ],
      "metadata": {
        "id": "YJKuuFccpWSR"
      }
    },
    {
      "cell_type": "code",
      "source": [
        "class Animal:\n",
        "    def sound(self):\n",
        "        print(\"The animal makes a sound.\")\n",
        "\n",
        "class Dog(Animal):\n",
        "    def sound(self):\n",
        "        super().sound()\n",
        "        print(\"The dog barks.\")\n",
        "\n",
        "dog = Dog()\n",
        "dog.sound()"
      ],
      "metadata": {
        "colab": {
          "base_uri": "https://localhost:8080/"
        },
        "id": "FyxrN_2ipRqJ",
        "outputId": "cd46b9f0-5d62-418d-8136-318530dd4ada"
      },
      "execution_count": 10,
      "outputs": [
        {
          "output_type": "stream",
          "name": "stdout",
          "text": [
            "The animal makes a sound.\n",
            "The dog barks.\n"
          ]
        }
      ]
    },
    {
      "cell_type": "markdown",
      "source": [
        "#21.What is the significance of the _del_ method in Python?\n",
        "\n",
        " Significance of __del__ Method in Python\n",
        "\n",
        "The __del__ method in Python is a special method that is automatically called when an object is about to be destroyed. This method is also known as a finalizer or destructor.\n",
        "\n",
        "**Key Significance:**\n",
        "\n",
        "1. Resource cleanup: The __del__ method is used to clean up resources, such as file handles, network connections, or database connections, when an object is no longer needed.\n",
        "2. Memory management: Although Python's garbage collector automatically manages memory, the __del__ method can be used to perform additional cleanup tasks when an object is destroyed.\n",
        "3. Object lifecycle management: The __del__ method provides a way to manage the lifecycle of an object, ensuring that resources are released and cleanup tasks are performed when the object is no longer needed.\n",
        "\n",
        "Example:\n",
        "\n",
        "\n"
      ],
      "metadata": {
        "id": "PeVGbaW_qAS9"
      }
    },
    {
      "cell_type": "code",
      "source": [
        "class FileHandler:\n",
        "    def __init__(self, filename):\n",
        "        self.file = open(filename, \"w\")\n",
        "\n",
        "    def write(self, content):\n",
        "        self.file.write(content)\n",
        "\n",
        "    def __del__(self):\n",
        "        self.file.close()\n",
        "        print(\"File closed\")\n",
        "\n",
        "file_handler = FileHandler(\"example.txt\")\n",
        "file_handler.write(\"Hello, world!\")\n",
        "del file_handler\n"
      ],
      "metadata": {
        "colab": {
          "base_uri": "https://localhost:8080/"
        },
        "id": "lyOOS4eqp-82",
        "outputId": "095327c7-1907-430a-fc14-2d47865abf64"
      },
      "execution_count": 11,
      "outputs": [
        {
          "output_type": "stream",
          "name": "stdout",
          "text": [
            "File closed\n"
          ]
        }
      ]
    },
    {
      "cell_type": "markdown",
      "source": [
        "#22. What is the difference between @staticmethod and @classmethod in Python?\n",
        "\n",
        " **@staticmethod  vs  @classmethod in Python**\n",
        "\n",
        "In Python, @staticmethod and @classmethod are two types of decorators that allow you to define methods that belong to a class rather than an instance of the class.\n",
        "\n",
        "**@staticmethod**\n",
        "\n",
        "1. No access to class or instance: A static method has no access to the class or instance, and is essentially a function that belongs to the class's namespace.\n",
        "2. No self or cls parameter: A static method does not take a self or cls parameter.\n",
        "3. Use case: Static methods are useful when you want to group related functionality together, but don't need access to the class or instance.\n",
        "\n",
        "**@classmethod**\n",
        "\n",
        "1. Access to class: A class method has access to the class, and is passed the class as the first argument (conventionally named cls).\n",
        "2. cls parameter: A class method takes a cls parameter, which refers to the class itself.\n",
        "3. Use case: Class methods are useful when you want to define alternative constructors or methods that operate on the class level.\n",
        "\n",
        "**Key differences:**\n",
        "\n",
        "1. Access to class: Static methods have no access to the class, while class methods have access to the class.\n",
        "2. Parameter: Static methods do not take a self or cls parameter, while class methods take a cls parameter.\n",
        "\n",
        "Example:\n",
        "\n",
        "\n"
      ],
      "metadata": {
        "id": "seLxMaX8sxz2"
      }
    },
    {
      "cell_type": "code",
      "source": [
        "class MyClass:\n",
        "    @staticmethod\n",
        "    def static_method():\n",
        "        return \"This is a static method\"\n",
        "\n",
        "    @classmethod\n",
        "    def class_method(cls):\n",
        "        return f\"This is a class method of {cls.__name__}\"\n",
        "\n",
        "print(MyClass.static_method())\n",
        "print(MyClass.class_method())\n",
        "\n",
        "\n"
      ],
      "metadata": {
        "colab": {
          "base_uri": "https://localhost:8080/"
        },
        "id": "qrv0Qjayt6zh",
        "outputId": "3c246e18-de3c-4b42-cae6-433ce7c40eaa"
      },
      "execution_count": 12,
      "outputs": [
        {
          "output_type": "stream",
          "name": "stdout",
          "text": [
            "This is a static method\n",
            "This is a class method of MyClass\n"
          ]
        }
      ]
    },
    {
      "cell_type": "markdown",
      "source": [
        "#23. How does polymorphism work in Python with inheritance?\n",
        "\n",
        "Polymorphism in Python with Inheritance\n",
        "\n",
        "Polymorphism is a fundamental concept in object-oriented programming that allows objects of different classes to be treated as objects of a common superclass. In Python, polymorphism is achieved through method overriding.\n",
        "\n",
        "**Method Overriding**\n",
        "\n",
        "Method overriding occurs when a subclass provides a different implementation of a method that is already defined in its superclass.\n",
        "\n",
        "\n"
      ],
      "metadata": {
        "id": "nBgDgnuNuDQh"
      }
    },
    {
      "cell_type": "code",
      "source": [
        "class Animal:\n",
        "    def sound(self):\n",
        "        print(\"The animal makes a sound.\")\n",
        "\n",
        "class Dog(Animal):\n",
        "    def sound(self):\n",
        "        print(\"The dog barks.\")\n",
        "\n",
        "class Cat(Animal):\n",
        "    def sound(self):\n",
        "        print(\"The cat meows.\")\n",
        "\n",
        "def make_sound(animal: Animal):\n",
        "    animal.sound()\n",
        "\n",
        "dog = Dog()\n",
        "cat = Cat()\n",
        "\n",
        "make_sound(dog)"
      ],
      "metadata": {
        "colab": {
          "base_uri": "https://localhost:8080/"
        },
        "id": "kyhz53Czt8id",
        "outputId": "a616a75e-0f96-4969-c011-11bf8d5b7012"
      },
      "execution_count": 13,
      "outputs": [
        {
          "output_type": "stream",
          "name": "stdout",
          "text": [
            "The dog barks.\n"
          ]
        }
      ]
    },
    {
      "cell_type": "markdown",
      "source": [
        "#24. What is method chaining in Python OOP?\n",
        "\n",
        " **Method Chaining in Python OOP**\n",
        "\n",
        "Method chaining is a programming technique in Python object-oriented programming (OOP) where multiple methods are called on an object in a single statement. This is achieved by having each method return the object itself (self), allowing the next method to be called on the same object.\n",
        "\n",
        "**Example:**\n",
        "\n",
        "\n"
      ],
      "metadata": {
        "id": "n-cI-VZHus5o"
      }
    },
    {
      "cell_type": "code",
      "source": [
        "class StringBuilder:\n",
        "    def __init__(self):\n",
        "        self.string = \"\"\n",
        "\n",
        "    def append(self, text):\n",
        "        self.string += text\n",
        "        return self\n",
        "\n",
        "    def prepend(self, text):\n",
        "        self.string = text + self.string\n",
        "        return self\n",
        "\n",
        "    def to_string(self):\n",
        "        return self.string\n",
        "\n",
        "builder = StringBuilder()\n",
        "result = builder.append(\"World\").prepend(\"Hello, \").to_string()\n",
        "print(result)"
      ],
      "metadata": {
        "colab": {
          "base_uri": "https://localhost:8080/"
        },
        "id": "7g8q24OmurAq",
        "outputId": "91b94309-888d-4ed7-b611-64e00b7a4393"
      },
      "execution_count": 14,
      "outputs": [
        {
          "output_type": "stream",
          "name": "stdout",
          "text": [
            "Hello, World\n"
          ]
        }
      ]
    },
    {
      "cell_type": "markdown",
      "source": [
        "#25. What is the purpose of the _call_ method in Python?\n",
        "\n",
        " **Purpose of the __call__ Method in Python**\n",
        "\n",
        "The __call__ method in Python is a special method that allows an instance of a class to be called as a function. This method is invoked when an instance of a class is used as a callable.\n",
        "\n",
        "**Key Purpose:**\n",
        "\n",
        "1. Making instances callable: The __call__ method enables instances of a class to be used as functions, allowing for more flexible and dynamic coding.\n",
        "2. Encapsulating behavior: By defining a __call__ method, you can encapsulate behavior within an object, making it easier to manage complexity and improve code organization.\n",
        "\n",
        "**Example**"
      ],
      "metadata": {
        "id": "TjKCULsIwn-b"
      }
    },
    {
      "cell_type": "code",
      "source": [
        "class Greeter:\n",
        "    def __init__(self, name):\n",
        "        self.name = name\n",
        "\n",
        "    def __call__(self):\n",
        "        return f\"Hello, {self.name}!\"\n",
        "\n",
        "greeter = Greeter(\"John\")\n",
        "print(greeter())\n",
        "\n"
      ],
      "metadata": {
        "colab": {
          "base_uri": "https://localhost:8080/"
        },
        "id": "F6L4CIhVwgLL",
        "outputId": "4a04a07a-ed07-4826-d5ea-aece68a9e2b2"
      },
      "execution_count": 15,
      "outputs": [
        {
          "output_type": "stream",
          "name": "stdout",
          "text": [
            "Hello, John!\n"
          ]
        }
      ]
    },
    {
      "cell_type": "markdown",
      "source": [
        "#PRACTICAL QUESTION"
      ],
      "metadata": {
        "id": "iAVoKFDGx9bY"
      }
    },
    {
      "cell_type": "markdown",
      "source": [
        "#1. Create a parent class Animal with a method speak() that prints a generic message. Create a child class Dog that overrides the speak()method to print \"Bark!\".\n",
        "\n",
        "\n"
      ],
      "metadata": {
        "id": "TRqmNVmiyUPJ"
      }
    },
    {
      "cell_type": "code",
      "source": [
        "class Animal:\n",
        "    def speak(self):\n",
        "        print(\"The animal makes a sound.\")\n",
        "\n",
        "class Dog(Animal):\n",
        "    def speak(self):\n",
        "        print(\"Bark!\")\n",
        "\n",
        "animal = Animal()\n",
        "dog = Dog()\n",
        "\n",
        "animal.speak()\n",
        "dog.speak()\n"
      ],
      "metadata": {
        "colab": {
          "base_uri": "https://localhost:8080/"
        },
        "id": "yAw00pQRxT0L",
        "outputId": "0eca080d-c14a-4293-83fc-c38515771aa6"
      },
      "execution_count": 16,
      "outputs": [
        {
          "output_type": "stream",
          "name": "stdout",
          "text": [
            "The animal makes a sound.\n",
            "Bark!\n"
          ]
        }
      ]
    },
    {
      "cell_type": "markdown",
      "source": [
        "#2.Write a program to create an abstract class Shape with a method area(). Derive classes Circle and Rectangle from it and implement the area() method in both."
      ],
      "metadata": {
        "id": "zw7rhM034aKF"
      }
    },
    {
      "cell_type": "code",
      "source": [
        "from abc import ABC, abstractmethod\n",
        "import math\n",
        "\n",
        "class Shape(ABC):\n",
        "    @abstractmethod\n",
        "    def area(self):\n",
        "        pass\n",
        "\n",
        "class Circle(Shape):\n",
        "    def __init__(self, radius):\n",
        "        self.radius = radius\n",
        "\n",
        "    def area(self):\n",
        "        return math.pi * (self.radius ** 2)\n",
        "\n",
        "class Rectangle(Shape):\n",
        "    def __init__(self, width, height):\n",
        "        self.width = width\n",
        "        self.height = height\n",
        "\n",
        "    def area(self):\n",
        "        return self.width * self.height\n",
        "\n",
        "circle = Circle(5)\n",
        "rectangle = Rectangle(4, 6)\n",
        "\n",
        "print(f\"Circle area: {circle.area():.2f}\")\n",
        "print(f\"Rectangle area: {rectangle.area():.2f}\")\n"
      ],
      "metadata": {
        "colab": {
          "base_uri": "https://localhost:8080/"
        },
        "id": "-suLGDkF39Um",
        "outputId": "62ac773b-44f5-49b0-b5c7-6c4e7eedb56c"
      },
      "execution_count": 17,
      "outputs": [
        {
          "output_type": "stream",
          "name": "stdout",
          "text": [
            "Circle area: 78.54\n",
            "Rectangle area: 24.00\n"
          ]
        }
      ]
    },
    {
      "cell_type": "markdown",
      "source": [
        "#3.Implement a multi-level inheritance scenario where a class Vehicle has an attribute type. Derive a class Car and further derive a class ElectricCar that adds a battery attribute."
      ],
      "metadata": {
        "id": "vDDmA_M35ZR_"
      }
    },
    {
      "cell_type": "code",
      "source": [
        "class Vehicle:\n",
        "    def __init__(self, type):\n",
        "        self.type = type\n",
        "\n",
        "class Car(Vehicle):\n",
        "    def __init__(self, type, brand, model):\n",
        "        super().__init__(type)\n",
        "        self.brand = brand\n",
        "        self.model = model\n",
        "\n",
        "class ElectricCar(Car):\n",
        "    def __init__(self, type, brand, model, battery_capacity):\n",
        "        super().__init__(type, brand, model)\n",
        "        self.battery_capacity = battery_capacity\n",
        "\n",
        "    def display_details(self):\n",
        "        print(f\"Type: {self.type}\")\n",
        "        print(f\"Brand: {self.brand}\")\n",
        "        print(f\"Model: {self.model}\")\n",
        "        print(f\"Battery capacity: {self.battery_capacity} kWh\")\n",
        "\n",
        "electric_car = ElectricCar(\"Car\", \"Tesla\", \"Model S\", 100)\n",
        "electric_car.display_details()\n"
      ],
      "metadata": {
        "colab": {
          "base_uri": "https://localhost:8080/"
        },
        "id": "jMqah8qo5pwE",
        "outputId": "75a834eb-71c2-4d5c-96eb-8ff09e89a262"
      },
      "execution_count": 18,
      "outputs": [
        {
          "output_type": "stream",
          "name": "stdout",
          "text": [
            "Type: Car\n",
            "Brand: Tesla\n",
            "Model: Model S\n",
            "Battery capacity: 100 kWh\n"
          ]
        }
      ]
    },
    {
      "cell_type": "markdown",
      "source": [
        "#4.Demonstrate polymorphism by creating a base class Bird with a method fly(). Create two derived classes Sparrow and Penguin that override the fly() method."
      ],
      "metadata": {
        "id": "z0tehVNP6IJl"
      }
    },
    {
      "cell_type": "code",
      "source": [
        "class Bird:\n",
        "    def fly(self):\n",
        "        print(\"The bird flies.\")\n",
        "\n",
        "class Sparrow(Bird):\n",
        "    def fly(self):\n",
        "        print(\"The sparrow flies swiftly.\")\n",
        "\n",
        "class Penguin(Bird):\n",
        "    def fly(self):\n",
        "        print(\"Penguins cannot fly.\")\n",
        "\n",
        "birds = [Sparrow(), Penguin()]\n",
        "\n",
        "for bird in birds:\n",
        "    bird.fly()\n"
      ],
      "metadata": {
        "colab": {
          "base_uri": "https://localhost:8080/"
        },
        "id": "SJ4OsZ4z5xwn",
        "outputId": "b0cdb092-0e05-408c-f5ed-b5fc5462b282"
      },
      "execution_count": 19,
      "outputs": [
        {
          "output_type": "stream",
          "name": "stdout",
          "text": [
            "The sparrow flies swiftly.\n",
            "Penguins cannot fly.\n"
          ]
        }
      ]
    },
    {
      "cell_type": "markdown",
      "source": [
        "#5.Write a program to demonstrate encapsulation by creating a class BankAccount with private attributes balance and methods to deposit, withdraw, and check balance."
      ],
      "metadata": {
        "id": "46ZqpTJQCjCs"
      }
    },
    {
      "cell_type": "code",
      "source": [
        "class BankAccount:\n",
        "    def __init__(self, initial_balance=0):\n",
        "        self.__balance = initial_balance\n",
        "\n",
        "    def deposit(self, amount):\n",
        "        if amount > 0:\n",
        "            self.__balance += amount\n",
        "            print(f\"Deposited ${amount}. New balance: ${self.__balance}\")\n",
        "        else:\n",
        "            print(\"Invalid deposit amount.\")\n",
        "\n",
        "    def withdraw(self, amount):\n",
        "        if 0 < amount <= self.__balance:\n",
        "            self.__balance -= amount\n",
        "            print(f\"Withdrew ${amount}. New balance: ${self.__balance}\")\n",
        "        else:\n",
        "            print(\"Insufficient funds or invalid withdrawal amount.\")\n",
        "\n",
        "    def get_balance(self):\n",
        "        return self.__balance\n",
        "\n",
        "account = BankAccount(1000)\n",
        "print(f\"Initial balance: ${account.get_balance()}\")\n",
        "account.deposit(500)\n",
        "account.withdraw(200)\n",
        "print(f\"Final balance: ${account.get_balance()}\")\n"
      ],
      "metadata": {
        "colab": {
          "base_uri": "https://localhost:8080/"
        },
        "id": "Tt-A4OX26WpK",
        "outputId": "47ffccdc-fd2e-4894-99f6-36d9910ee855"
      },
      "execution_count": 20,
      "outputs": [
        {
          "output_type": "stream",
          "name": "stdout",
          "text": [
            "Initial balance: $1000\n",
            "Deposited $500. New balance: $1500\n",
            "Withdrew $200. New balance: $1300\n",
            "Final balance: $1300\n"
          ]
        }
      ]
    },
    {
      "cell_type": "markdown",
      "source": [
        " #6. Demonstrate runtime polymorphism using a method play() in a base class Instrument. Derive classes Guitar and Piano that implement their own version of play()."
      ],
      "metadata": {
        "id": "MT8wzWgCCzMc"
      }
    },
    {
      "cell_type": "code",
      "source": [
        "class Instrument:\n",
        "    def play(self):\n",
        "        print(\"The instrument is playing.\")\n",
        "\n",
        "class Guitar(Instrument):\n",
        "    def play(self):\n",
        "        print(\"The guitar is strumming.\")\n",
        "\n",
        "class Piano(Instrument):\n",
        "    def play(self):\n",
        "        print(\"The piano is being played.\")\n",
        "\n",
        "instruments = [Guitar(), Piano()]\n",
        "\n",
        "for instrument in instruments:\n",
        "    instrument.play()\n"
      ],
      "metadata": {
        "id": "C048WfxG9uNS",
        "outputId": "490b17ed-1a7b-4c4e-fde2-4791fe514d30",
        "colab": {
          "base_uri": "https://localhost:8080/"
        }
      },
      "execution_count": 1,
      "outputs": [
        {
          "output_type": "stream",
          "name": "stdout",
          "text": [
            "The guitar is strumming.\n",
            "The piano is being played.\n"
          ]
        }
      ]
    },
    {
      "cell_type": "markdown",
      "source": [
        "#7. Create a class MathOperations with a class method add_numbers() to add two numbers and a static method subtract_numbers() to subtract two numbers."
      ],
      "metadata": {
        "id": "EzkSlCHn-c2r"
      }
    },
    {
      "cell_type": "code",
      "source": [
        "class MathOperations:\n",
        "    @classmethod\n",
        "    def add_numbers(cls, num1, num2):\n",
        "        return num1 + num2\n",
        "\n",
        "    @staticmethod\n",
        "    def subtract_numbers(num1, num2):\n",
        "        return num1 - num2\n",
        "\n",
        "result_add = MathOperations.add_numbers(10, 5)\n",
        "print(f\"Addition result: {result_add}\")\n",
        "\n",
        "result_subtract = MathOperations.subtract_numbers(10, 5)\n",
        "print(f\"Subtraction result: {result_subtract}\")\n"
      ],
      "metadata": {
        "id": "g204Ic2n97fV",
        "outputId": "34dae843-8d26-4eae-a308-b60f481dc3c9",
        "colab": {
          "base_uri": "https://localhost:8080/"
        }
      },
      "execution_count": 2,
      "outputs": [
        {
          "output_type": "stream",
          "name": "stdout",
          "text": [
            "Addition result: 15\n",
            "Subtraction result: 5\n"
          ]
        }
      ]
    },
    {
      "cell_type": "markdown",
      "source": [
        "#8. Implement a class Person with a class method to count the total number of persons created."
      ],
      "metadata": {
        "id": "8Ya8DQGF-2uT"
      }
    },
    {
      "cell_type": "code",
      "source": [
        "class Person:\n",
        "    count = 0\n",
        "\n",
        "    def __init__(self, name):\n",
        "        self.name = name\n",
        "        Person.count += 1\n",
        "\n",
        "    @classmethod\n",
        "    def get_count(cls):\n",
        "        return cls.count\n",
        "\n",
        "person1 = Person(\"John\")\n",
        "person2 = Person(\"Jane\")\n",
        "person3 = Person(\"Bob\")\n",
        "\n",
        "print(f\"Total persons: {Person.get_count()}\")\n",
        "\n"
      ],
      "metadata": {
        "id": "EPJ1ZaWg-0Xi",
        "outputId": "7a8bcf5e-61a7-4477-fac2-f8031ad4635b",
        "colab": {
          "base_uri": "https://localhost:8080/"
        }
      },
      "execution_count": 3,
      "outputs": [
        {
          "output_type": "stream",
          "name": "stdout",
          "text": [
            "Total persons: 3\n"
          ]
        }
      ]
    },
    {
      "cell_type": "markdown",
      "source": [
        "#9. Write a class Fraction with attributes numerator and denominator. Override the str method to display the fraction as \"numerator/denominator\"."
      ],
      "metadata": {
        "id": "n_gFMCYA_Mn2"
      }
    },
    {
      "cell_type": "code",
      "source": [
        "class Fraction:\n",
        "    def __init__(self, numerator, denominator):\n",
        "        self.numerator = numerator\n",
        "        self.denominator = denominator\n",
        "\n",
        "    def __str__(self):\n",
        "        return f\"{self.numerator}/{self.denominator}\"\n",
        "\n",
        "fraction = Fraction(3, 4)\n",
        "print(fraction)\n"
      ],
      "metadata": {
        "id": "JrSZKgaJ_JEk",
        "outputId": "0a02b5d8-bab9-4c51-a221-ffd92cde45b3",
        "colab": {
          "base_uri": "https://localhost:8080/"
        }
      },
      "execution_count": 4,
      "outputs": [
        {
          "output_type": "stream",
          "name": "stdout",
          "text": [
            "3/4\n"
          ]
        }
      ]
    },
    {
      "cell_type": "markdown",
      "source": [
        "#10. Demonstrate operator overloading by creating a class Vector and overriding the add method to add two vectors."
      ],
      "metadata": {
        "id": "npLNuZrY_ptM"
      }
    },
    {
      "cell_type": "code",
      "source": [
        "class Vector:\n",
        "    def __init__(self, x, y):\n",
        "        self.x = x\n",
        "        self.y = y\n",
        "\n",
        "    def __add__(self, other):\n",
        "        return Vector(self.x + other.x, self.y + other.y)\n",
        "\n",
        "    def __str__(self):\n",
        "        return f\"({self.x}, {self.y})\"\n",
        "\n",
        "v1 = Vector(1, 2)\n",
        "v2 = Vector(3, 4)\n",
        "\n",
        "v3 = v1 + v2\n",
        "print(v3)"
      ],
      "metadata": {
        "id": "eHVTKuoI_kpC",
        "outputId": "b02cc27f-c241-46c8-96d6-9eabc776ba50",
        "colab": {
          "base_uri": "https://localhost:8080/"
        }
      },
      "execution_count": 5,
      "outputs": [
        {
          "output_type": "stream",
          "name": "stdout",
          "text": [
            "(4, 6)\n"
          ]
        }
      ]
    },
    {
      "cell_type": "markdown",
      "source": [
        "#11. Create a class Person with attributes name and age. Add a method greet() that prints \"Hello, my name is {name} and I am {age} years old.\""
      ],
      "metadata": {
        "id": "ZakWA74_AD8j"
      }
    },
    {
      "cell_type": "code",
      "source": [
        "class Person:\n",
        "    def __init__(self, name, age):\n",
        "        self.name = name\n",
        "        self.age = age\n",
        "\n",
        "    def greet(self):\n",
        "        print(f\"Hello, my name is {self.name} and I am {self.age} years old.\")\n",
        "\n",
        "person = Person(\"Alice\", 25)\n",
        "person.greet()\n"
      ],
      "metadata": {
        "id": "Crpqv8pT__YQ",
        "outputId": "be793ce4-a22f-4f4f-cb3a-cdd714948756",
        "colab": {
          "base_uri": "https://localhost:8080/"
        }
      },
      "execution_count": 6,
      "outputs": [
        {
          "output_type": "stream",
          "name": "stdout",
          "text": [
            "Hello, my name is Alice and I am 25 years old.\n"
          ]
        }
      ]
    },
    {
      "cell_type": "markdown",
      "source": [
        "#12. Implement a class Student with attributes name and grades. Create a method average_grade() to compute the average of the grades."
      ],
      "metadata": {
        "id": "DLCAAMbfB7l8"
      }
    },
    {
      "cell_type": "code",
      "source": [
        "class Student:\n",
        "    def __init__(self, name, grades):\n",
        "        self.name = name\n",
        "        self.grades = grades\n",
        "\n",
        "    def average_grade(self):\n",
        "        return sum(self.grades) / len(self.grades) if self.grades else 0\n",
        "\n",
        "student = Student(\"Alice\", [90, 85, 95])\n",
        "print(f\"Average grade for {student.name}: {student.average_grade():.2f}\")\n"
      ],
      "metadata": {
        "id": "WW4f7agRBWmJ",
        "outputId": "ddf8a8b2-efa6-4c0a-9ed8-096e5a7e68c4",
        "colab": {
          "base_uri": "https://localhost:8080/"
        }
      },
      "execution_count": 7,
      "outputs": [
        {
          "output_type": "stream",
          "name": "stdout",
          "text": [
            "Average grade for Alice: 90.00\n"
          ]
        }
      ]
    },
    {
      "cell_type": "markdown",
      "source": [
        "#13.Create a class Rectangle with methods set_dimensions() to set the dimensions and area() to calculate the area"
      ],
      "metadata": {
        "id": "9BtWFQg8HeMS"
      }
    },
    {
      "cell_type": "code",
      "source": [
        "class Rectangle:\n",
        "    def __init__(self, length=0, width=0):\n",
        "        self.length = length\n",
        "        self.width = width\n",
        "\n",
        "    def set_dimensions(self, length, width):\n",
        "        self.length = length\n",
        "        self.width = width\n",
        "\n",
        "    def area(self):\n",
        "        return self.length * self.width\n",
        "\n",
        "rectangle = Rectangle()\n",
        "rectangle.set_dimensions(4, 5)\n",
        "print(f\"Area of the rectangle: {rectangle.area()}\")\n"
      ],
      "metadata": {
        "id": "tALepnffH2Zt",
        "outputId": "7c2415c6-69a2-4d07-9d40-ef656b644e85",
        "colab": {
          "base_uri": "https://localhost:8080/"
        }
      },
      "execution_count": 8,
      "outputs": [
        {
          "output_type": "stream",
          "name": "stdout",
          "text": [
            "Area of the rectangle: 20\n"
          ]
        }
      ]
    },
    {
      "cell_type": "markdown",
      "source": [
        "#14. Create a class Employee with a method calculate_salary() that computes the salary based on hours worked and hourly rate. Create a derived class Manager that adds a bonus to the salary."
      ],
      "metadata": {
        "id": "LgQl3UBtIAd5"
      }
    },
    {
      "cell_type": "code",
      "source": [
        "class Employee:\n",
        "    def __init__(self, hours_worked, hourly_rate):\n",
        "        self.hours_worked = hours_worked\n",
        "        self.hourly_rate = hourly_rate\n",
        "\n",
        "    def calculate_salary(self):\n",
        "        return self.hours_worked * self.hourly_rate\n",
        "\n",
        "class Manager(Employee):\n",
        "    def __init__(self, hours_worked, hourly_rate, bonus):\n",
        "        super().__init__(hours_worked, hourly_rate)\n",
        "        self.bonus = bonus\n",
        "\n",
        "    def calculate_salary(self):\n",
        "        return super().calculate_salary() + self.bonus\n",
        "\n",
        "employee = Employee(40, 20)\n",
        "print(f\"Employee salary: {employee.calculate_salary()}\")\n",
        "\n",
        "manager = Manager(40, 30, 1000)\n",
        "print(f\"Manager salary: {manager.calculate_salary()}\")\n"
      ],
      "metadata": {
        "id": "D2JPw8y-H9_G",
        "outputId": "02c283d9-3e6b-4960-b56f-4e5f5601eda4",
        "colab": {
          "base_uri": "https://localhost:8080/"
        }
      },
      "execution_count": 9,
      "outputs": [
        {
          "output_type": "stream",
          "name": "stdout",
          "text": [
            "Employee salary: 800\n",
            "Manager salary: 2200\n"
          ]
        }
      ]
    },
    {
      "cell_type": "markdown",
      "source": [
        "#15. Create a class Product with attributes name, price, and quantity. Implement a method total_price() that calculates the total price of the product."
      ],
      "metadata": {
        "id": "CQroH1QHItek"
      }
    },
    {
      "cell_type": "code",
      "source": [
        "class Product:\n",
        "    def __init__(self, name, price, quantity):\n",
        "        self.name = name\n",
        "        self.price = price\n",
        "        self.quantity = quantity\n",
        "\n",
        "    def total_price(self):\n",
        "        return self.price * self.quantity\n",
        "\n",
        "product = Product(\"Phone\", 500, 2)\n",
        "print(f\"Total price: {product.total_price()}\")\n"
      ],
      "metadata": {
        "id": "eEwUpciqIizn",
        "outputId": "30d3649a-8903-46f0-c62e-0e0e836f93bd",
        "colab": {
          "base_uri": "https://localhost:8080/"
        }
      },
      "execution_count": 10,
      "outputs": [
        {
          "output_type": "stream",
          "name": "stdout",
          "text": [
            "Total price: 1000\n"
          ]
        }
      ]
    },
    {
      "cell_type": "markdown",
      "source": [
        "#16. Create a class Animal with an abstract method sound(). Create two derived classes Cow and Sheep that implement the sound() method."
      ],
      "metadata": {
        "id": "WYOCoeDSI7hY"
      }
    },
    {
      "cell_type": "code",
      "source": [
        "from abc import ABC, abstractmethod\n",
        "\n",
        "class Animal(ABC):\n",
        "    @abstractmethod\n",
        "    def sound(self):\n",
        "        pass\n",
        "\n",
        "class Cow(Animal):\n",
        "    def sound(self):\n",
        "        return \"Moo\"\n",
        "\n",
        "class Sheep(Animal):\n",
        "    def sound(self):\n",
        "        return \"Baa\"\n",
        "\n",
        "cow = Cow()\n",
        "sheep = Sheep()\n",
        "\n",
        "print(cow.sound())\n",
        "print(sheep.sound())\n",
        "\n"
      ],
      "metadata": {
        "id": "qpFSIMW8I5du",
        "outputId": "cff40de0-4179-41bc-c742-39e510af70c1",
        "colab": {
          "base_uri": "https://localhost:8080/"
        }
      },
      "execution_count": 11,
      "outputs": [
        {
          "output_type": "stream",
          "name": "stdout",
          "text": [
            "Moo\n",
            "Baa\n"
          ]
        }
      ]
    },
    {
      "cell_type": "markdown",
      "source": [
        "#17. Create a class Book with attributes title, author, and year_published. Add a method get_book_info() that returns a formatted string with the book's details."
      ],
      "metadata": {
        "id": "yTp6cC7eJUJq"
      }
    },
    {
      "cell_type": "code",
      "source": [
        "class Book:\n",
        "    def __init__(self, title, author, year_published):\n",
        "        self.title = title\n",
        "        self.author = author\n",
        "        self.year_published = year_published\n",
        "\n",
        "    def get_book_info(self):\n",
        "        return f\"Title: {self.title}\\nAuthor: {self.author}\\nYear Published: {self.year_published}\"\n",
        "\n",
        "book = Book(\"1984\", \"George Orwell\", 1949)\n",
        "print(book.get_book_info())\n"
      ],
      "metadata": {
        "id": "fu6U8k4sJP9J",
        "outputId": "08dd6b15-f70a-404d-d608-c78b95215ca4",
        "colab": {
          "base_uri": "https://localhost:8080/"
        }
      },
      "execution_count": 12,
      "outputs": [
        {
          "output_type": "stream",
          "name": "stdout",
          "text": [
            "Title: 1984\n",
            "Author: George Orwell\n",
            "Year Published: 1949\n"
          ]
        }
      ]
    },
    {
      "cell_type": "markdown",
      "source": [
        "#18. Create a class House with attributes address and price. Create a derived class Mansion that adds an attribute number_of_rooms"
      ],
      "metadata": {
        "id": "6VDBBTlwJuAc"
      }
    },
    {
      "cell_type": "code",
      "source": [
        "class House:\n",
        "    def __init__(self, address, price):\n",
        "        self.address = address\n",
        "        self.price = price\n",
        "\n",
        "class Mansion(House):\n",
        "    def __init__(self, address, price, number_of_rooms):\n",
        "        super().__init__(address, price)\n",
        "        self.number_of_rooms = number_of_rooms\n",
        "\n",
        "house = House(\"123 Main St\", 500000)\n",
        "mansion = Mansion(\"456 Luxury Dr\", 2000000, 10)\n",
        "\n",
        "print(f\"House Address: {house.address}, Price: {house.price}\")\n",
        "print(f\"Mansion Address: {mansion.address}, Price: {mansion.price}, Number of Rooms: {mansion.number_of_rooms}\")\n"
      ],
      "metadata": {
        "id": "5eVq8Wz1Jpsi",
        "outputId": "103403c9-a118-4cb7-df8e-734fe2cce4c0",
        "colab": {
          "base_uri": "https://localhost:8080/"
        }
      },
      "execution_count": 13,
      "outputs": [
        {
          "output_type": "stream",
          "name": "stdout",
          "text": [
            "House Address: 123 Main St, Price: 500000\n",
            "Mansion Address: 456 Luxury Dr, Price: 2000000, Number of Rooms: 10\n"
          ]
        }
      ]
    }
  ]
}